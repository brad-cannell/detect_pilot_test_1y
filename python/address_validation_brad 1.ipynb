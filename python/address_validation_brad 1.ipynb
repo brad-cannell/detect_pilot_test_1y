{
 "cells": [
  {
   "cell_type": "code",
   "execution_count": 1,
   "id": "cdde1010-858f-41e9-a62d-d6ffa4cac6b5",
   "metadata": {},
   "outputs": [],
   "source": [
    "import pandas as pd\n",
    "import openai\n",
    "import requests\n",
    "import time\n",
    "from openai import OpenAI"
   ]
  },
  {
   "cell_type": "code",
   "execution_count": 2,
   "id": "71f6bcef-421f-4770-97a0-b7900392bdcd",
   "metadata": {},
   "outputs": [],
   "source": [
    "client = OpenAI(\n",
    " api_key=<\"add your api key here\">, \n",
    ")\n"
   ]
  },
  {
   "cell_type": "code",
   "execution_count": 3,
   "id": "08b8a67c-960a-4133-8c82-ad375277f057",
   "metadata": {},
   "outputs": [],
   "source": [
    "df=pd.read_excel(\"aps_data.xlsx\")"
   ]
  },
  {
   "cell_type": "code",
   "execution_count": 4,
   "id": "236f2cc4-6b2e-4932-97b0-7f2c14e969d4",
   "metadata": {},
   "outputs": [],
   "source": [
    "df=df.fillna(\" \")"
   ]
  },
  {
   "cell_type": "code",
   "execution_count": 5,
   "id": "33865797-1db3-4d4e-a2fc-4e6b45aea434",
   "metadata": {},
   "outputs": [],
   "source": [
    "address_cols=['street','city', 'zip', 'county']\n",
    "df=df[address_cols]\n",
    "df=df.astype(str)"
   ]
  },
  {
   "cell_type": "code",
   "execution_count": 6,
   "id": "ffca9187-3ab7-4981-9248-175c6aed3ee5",
   "metadata": {},
   "outputs": [],
   "source": [
    "df[\"zip\"]=df[\"zip\"].apply(lambda x:x.split(\"-\")[0])"
   ]
  },
  {
   "cell_type": "code",
   "execution_count": 7,
   "id": "96f87965-ab3c-4cff-a145-d6fc1306634b",
   "metadata": {},
   "outputs": [],
   "source": [
    "df=df[:50]"
   ]
  },
  {
   "cell_type": "code",
   "execution_count": 8,
   "id": "9b5c9aa8-ac5c-40c9-a7f1-3cea0fee18b3",
   "metadata": {},
   "outputs": [],
   "source": [
    "df[\"address\"]=df[\"street\"]+\",\"+df[\"city\"]+\",\"+\"TX \"+df[\"zip\"]+\", USA\""
   ]
  },
  {
   "cell_type": "code",
   "execution_count": 11,
   "id": "ba67ebd7-f4b7-4fd1-bc7c-c15de1f9d6a5",
   "metadata": {},
   "outputs": [],
   "source": [
    "def check_address(address):\n",
    "    response=client.chat.completions.create(\n",
    "    messages=[\n",
    "            {\n",
    "                \"role\": \"user\",\n",
    "                \"content\": f\"is this an address? if the answer is yes then correct this address and only return the corrected address or say no: {address}\",\n",
    "            }\n",
    "        ],\n",
    "        model=\"gpt-4o-mini\",\n",
    "    )\n",
    "    return response.choices[0].message.content\n",
    "\n",
    "def validate_address(address):\n",
    "    result=None\n",
    "    corrected_address=check_address(address)\n",
    "    if corrected_address.lower()==\"no.\":\n",
    "        return result\n",
    "    print(\"after:\",corrected_address)\n",
    "    \n",
    "    headers = {\n",
    "        \"User-Agent\": \"YourAppName/1.0 (your.email@example.com)\"\n",
    "    }\n",
    "\n",
    "    url = f\"https://nominatim.openstreetmap.org/search?q={corrected_address}&format=json\"\n",
    "    \n",
    "    retries = 5\n",
    "    backoff_factor = 1  # Start with a 1-second delay and increase on each retry\n",
    "    for i in range(retries):\n",
    "        response = requests.get(url, headers=headers)\n",
    "        if response.status_code == 500:\n",
    "            print(f\"Internal Server Error. Retrying in {backoff_factor} seconds...\")\n",
    "            time.sleep(backoff_factor) \n",
    "            backoff_factor *= 2  \n",
    "        elif response.status_code == 403:\n",
    "            print(\"Access forbidden. Check your usage and User-Agent.\")\n",
    "            break\n",
    "        elif response.status_code == 200:\n",
    "            data = response.json()\n",
    "            if data:\n",
    "                print(f\"Validated Address: {data[0]['display_name']}\")\n",
    "                result = data[0]['display_name']\n",
    "                break\n",
    "            else:\n",
    "                time.sleep(backoff_factor)  \n",
    "                backoff_factor *= 2  \n",
    "        else:\n",
    "            print(f\"Error: Received status code {response.status_code}\")\n",
    "            break\n",
    "    return result"
   ]
  },
  {
   "cell_type": "code",
   "execution_count": 12,
   "id": "292fd5d8-262a-45c4-8546-b56bd7439d5e",
   "metadata": {},
   "outputs": [
    {
     "name": "stdout",
     "output_type": "stream",
     "text": [
      "after: Denton, TX, USA\n",
      "Validated Address: Denton, Denton County, Texas, United States\n",
      "after: 8713 S Normandale St, Fort Worth, TX 76116, USA\n",
      "Validated Address: 8713, South Normandale Street, Fort Worth, Tarrant County, Texas, 76116, United States\n",
      "after: 8713 S Normandale St, Fort Worth, TX 76116, USA\n",
      "Validated Address: 8713, South Normandale Street, Fort Worth, Tarrant County, Texas, 76116, United States\n",
      "after: 8713 S Normandale St, Fort Worth, TX 76116, USA\n",
      "Validated Address: 8713, South Normandale Street, Fort Worth, Tarrant County, Texas, 76116, United States\n",
      "after: 401 W Sanford St, Arlington, TX 76011, USA\n",
      "Validated Address: 401, West Sanford Street, Arlington, Tarrant County, Texas, 76011, United States\n",
      "after: 1826 May St, Fort Worth, TX 76110, USA\n",
      "Validated Address: 1826, May Street, Fort Worth, Tarrant County, Texas, 76110, United States\n",
      "after: Denton, TX, USA\n",
      "Validated Address: Denton, Denton County, Texas, United States\n",
      "after: 1524 Morrison Dr, Fort Worth, TX 76112, USA\n",
      "Validated Address: 1524, Morrison Drive, Fort Worth, Tarrant County, Texas, 76112, United States\n",
      "after: 1524 Morrison Dr, Fort Worth, TX 76112, USA\n",
      "Validated Address: 1524, Morrison Drive, Fort Worth, Tarrant County, Texas, 76112, United States\n",
      "after: 2002 Woodbine St, Cleburne, TX 76031, USA\n",
      "Validated Address: 2002, Woodbine Street, Cleburne, Johnson County, Texas, 76031, United States\n",
      "after: 2002 Woodbine St, Cleburne, TX 76031, USA\n",
      "Validated Address: 2002, Woodbine Street, Cleburne, Johnson County, Texas, 76031, United States\n",
      "after: 2002 Woodbine St, Cleburne, TX 76031, USA\n",
      "Validated Address: 2002, Woodbine Street, Cleburne, Johnson County, Texas, 76031, United States\n",
      "after: 2002 Woodbine St, Cleburne, TX 76031, USA\n",
      "Validated Address: 2002, Woodbine Street, Cleburne, Johnson County, Texas, 76031, United States\n",
      "after: 2002 Woodbine St, Cleburne, TX 76031, USA\n",
      "Validated Address: 2002, Woodbine Street, Cleburne, Johnson County, Texas, 76031, United States\n",
      "after: 2002 Woodbine St, Cleburne, TX 76031, USA\n",
      "Validated Address: 2002, Woodbine Street, Cleburne, Johnson County, Texas, 76031, United States\n",
      "after: 2002 Woodbine St, Cleburne, TX 76031, USA\n",
      "Validated Address: 2002, Woodbine Street, Cleburne, Johnson County, Texas, 76031, United States\n",
      "after: 2002 Woodbine St, Cleburne, TX 76031, USA\n",
      "Validated Address: 2002, Woodbine Street, Cleburne, Johnson County, Texas, 76031, United States\n",
      "after: 2002 Woodbine St, Cleburne, TX 76031, USA\n",
      "Validated Address: 2002, Woodbine Street, Cleburne, Johnson County, Texas, 76031, United States\n",
      "after: 2002 Woodbine St, Cleburne, TX 76031, USA\n",
      "Validated Address: 2002, Woodbine Street, Cleburne, Johnson County, Texas, 76031, United States\n",
      "after: 2002 Woodbine St, Cleburne, TX 76031, USA\n",
      "Validated Address: 2002, Woodbine Street, Cleburne, Johnson County, Texas, 76031, United States\n",
      "after: 1832 E Robert St, Fort Worth, TX 76104, USA\n",
      "Validated Address: East Robert Street, Fort Worth, Tarrant County, Texas, 76104, United States\n",
      "after: 1707 Lady Rachael Ct, Fort Worth, TX 76134, USA\n",
      "Validated Address: 1707, Lady Rachael Court, Fort Worth, Tarrant County, Texas, 76134, United States\n",
      "after: Arlington, TX, USA\n",
      "Validated Address: Arlington, Tarrant County, Texas, United States\n",
      "after: 2800 Sedona Ranch Dr, Fort Worth, TX 76131, USA\n",
      "Validated Address: 2800, Sedona Ranch Drive, Fort Worth, Tarrant County, Texas, 76131, United States\n",
      "after: 10100 Jacksboro Hwy, Fort Worth, TX 76135, USA\n",
      "Validated Address: 10100, Jacksboro Highway, Fort Worth, Tarrant County, Texas, 76135, United States\n",
      "after: 2116 Andrew Ave, Fort Worth, TX 76105, USA\n",
      "Validated Address: 2116, Andrew Avenue, Fort Worth, Tarrant County, Texas, 76105, United States\n",
      "after: 3529 Chimney Rock Dr, Forest Hill, TX 76140, USA\n",
      "Validated Address: 3529, Chimney Rock Drive, Forest Hill, Tarrant County, Texas, 76140, United States\n",
      "after: Fort Worth, TX, USA\n",
      "Validated Address: Fort Worth, Tarrant County, Texas, United States\n",
      "after: 3515 QUAIL LN, ARLINGTON, TX 76016, USA\n",
      "Validated Address: 3515, Quail Lane, Arlington, Tarrant County, Texas, 76016, United States\n",
      "after: Fort Worth, TX, USA\n",
      "Validated Address: Fort Worth, Tarrant County, Texas, United States\n",
      "after: 7625 Glenview Dr, Richland Hills, TX 76118, USA\n",
      "Validated Address: 7625, Glenview Drive, North Richland Hills, Tarrant County, Texas, 76180, United States\n",
      "after: 7625 Glenview Dr, Richland Hills, TX 76118, USA\n",
      "Validated Address: 7625, Glenview Drive, North Richland Hills, Tarrant County, Texas, 76180, United States\n",
      "after: 1601 Woodway Drive, Fort Worth, TX, USA\n",
      "Validated Address: Woodway Drive, Fort Worth, Tarrant County, Texas, 76133, United States\n",
      "after: 2416 Moresby St, Fort Worth, TX 76105, USA\n",
      "Validated Address: 2416, Moresby Street, Fort Worth, Tarrant County, Texas, 76105, United States\n",
      "after: Haltom City, TX, USA\n",
      "Validated Address: Haltom City, Tarrant County, Texas, United States\n",
      "after: Haltom City, TX, USA\n",
      "Validated Address: Haltom City, Tarrant County, Texas, United States\n",
      "after: Euless, TX, USA\n",
      "Validated Address: Euless, Tarrant County, Texas, United States\n",
      "after: Euless, TX, USA\n",
      "Validated Address: Euless, Tarrant County, Texas, United States\n",
      "after: Euless, TX, USA\n",
      "Validated Address: Euless, Tarrant County, Texas, United States\n",
      "after: Euless, TX, USA\n",
      "Validated Address: Euless, Tarrant County, Texas, United States\n",
      "after: Euless, TX, USA\n",
      "Validated Address: Euless, Tarrant County, Texas, United States\n",
      "after: Fort Worth, TX, USA\n",
      "Validated Address: Fort Worth, Tarrant County, Texas, United States\n",
      "after: Fort Worth, TX, USA\n",
      "Validated Address: Fort Worth, Tarrant County, Texas, United States\n",
      "after: North Richland Hills, TX, USA\n",
      "Validated Address: North Richland Hills, Tarrant County, Texas, United States\n",
      "after: Diamond Loch, North Richland Hills, TX, USA\n",
      "Validated Address: Diamond Loch North, North Richland Hills, Tarrant County, Texas, 76180, United States\n",
      "after: Arlington, TX, USA\n",
      "Validated Address: Arlington, Tarrant County, Texas, United States\n",
      "after: Arlington, TX, USA\n",
      "Validated Address: Arlington, Tarrant County, Texas, United States\n",
      "after: Diamond Loch, North Richland Hills, TX, USA\n",
      "Validated Address: Diamond Loch North, North Richland Hills, Tarrant County, Texas, 76180, United States\n",
      "after: Euless, TX, USA\n",
      "Validated Address: Euless, Tarrant County, Texas, United States\n"
     ]
    }
   ],
   "source": [
    "df[\"validated_address\"]=df[\"address\"].apply(validate_address)"
   ]
  },
  {
   "cell_type": "code",
   "execution_count": null,
   "id": "ae275d90-8af0-4d6c-9acf-7bae84c1f3de",
   "metadata": {},
   "outputs": [],
   "source": []
  }
 ],
 "metadata": {
  "kernelspec": {
   "display_name": "Python 3 (ipykernel)",
   "language": "python",
   "name": "python3"
  },
  "language_info": {
   "codemirror_mode": {
    "name": "ipython",
    "version": 3
   },
   "file_extension": ".py",
   "mimetype": "text/x-python",
   "name": "python",
   "nbconvert_exporter": "python",
   "pygments_lexer": "ipython3",
   "version": "3.9.0"
  }
 },
 "nbformat": 4,
 "nbformat_minor": 5
}
